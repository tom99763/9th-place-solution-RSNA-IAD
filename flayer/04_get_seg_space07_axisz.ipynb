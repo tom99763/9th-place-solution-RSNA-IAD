{
 "cells": [
  {
   "cell_type": "code",
   "execution_count": 1,
   "id": "17b575ee-6e01-475c-b261-010add383092",
   "metadata": {},
   "outputs": [],
   "source": [
    "#import nibabel as nib\n",
    "import numpy as np\n",
    "import pandas as pd\n",
    "import cv2\n",
    "import glob\n",
    "import matplotlib.pyplot as plt\n",
    "from pathlib import Path\n",
    "import os\n",
    "import torch\n",
    "import matplotlib.pyplot as plt\n",
    "from monai.transforms import (\n",
    "    LoadImage, EnsureChannelFirst, Orientation, Spacing, ScaleIntensityRange,ScaleIntensityRangePercentiles\n",
    ")\n",
    "import pydicom\n",
    "from tqdm.auto import tqdm"
   ]
  },
  {
   "cell_type": "code",
   "execution_count": 6,
   "id": "826645a1-09a6-4b11-9d0c-37bdc3cac4cc",
   "metadata": {},
   "outputs": [],
   "source": [
    "\n",
    "\n",
    "\n",
    "input_path=\"/ssd3/rsna_2025_flayer/input\"\n",
    "folder = \"/ssd3/rsna_2025_flayer/data/segmentations\"\n",
    "out_folder = \"spacing_07_p1_p99_v1\""
   ]
  },
  {
   "cell_type": "code",
   "execution_count": 3,
   "id": "74a0d1e5",
   "metadata": {},
   "outputs": [],
   "source": [
    "df = pd.read_csv(f\"{input_path}/train_with_folds_optimized_axis_v1.csv\")"
   ]
  },
  {
   "cell_type": "code",
   "execution_count": null,
   "id": "292ccff3",
   "metadata": {},
   "outputs": [],
   "source": []
  },
  {
   "cell_type": "code",
   "execution_count": null,
   "id": "e33effe3-b2dd-4c6a-90f1-2f31e5c281bd",
   "metadata": {},
   "outputs": [],
   "source": []
  },
  {
   "cell_type": "code",
   "execution_count": 5,
   "id": "509def69-69e5-44cd-962c-25cd504a5b42",
   "metadata": {},
   "outputs": [],
   "source": [
    "df=df[df[\"axis\"]==\"z\"].reset_index(drop=True)"
   ]
  },
  {
   "cell_type": "code",
   "execution_count": 7,
   "id": "287eae15-4d1c-408f-a156-7cd8f5253cc7",
   "metadata": {},
   "outputs": [],
   "source": [
    "\n",
    "\n",
    "files = glob.glob(f\"{folder}/*.nii\")\n",
    "files = [f for f in files if not f.endswith(\"cowseg.nii\")]\n",
    "nii_sid = [Path(f).stem for f in files]  "
   ]
  },
  {
   "cell_type": "code",
   "execution_count": 8,
   "id": "8da33b32-15d7-41b9-93a1-b61516f4815c",
   "metadata": {},
   "outputs": [
    {
     "data": {
      "text/plain": [
       "178"
      ]
     },
     "execution_count": 8,
     "metadata": {},
     "output_type": "execute_result"
    }
   ],
   "source": [
    "len(nii_sid)"
   ]
  },
  {
   "cell_type": "code",
   "execution_count": 9,
   "id": "6ea76cd0-0bea-46b4-bdf9-74998c71a071",
   "metadata": {},
   "outputs": [],
   "source": [
    "nii_sid = [sid for sid in nii_sid if sid in df[\"SeriesInstanceUID\"].unique()]"
   ]
  },
  {
   "cell_type": "code",
   "execution_count": 10,
   "id": "a3667bfa-4a0d-408d-8cb4-f5eddad1c39e",
   "metadata": {},
   "outputs": [
    {
     "data": {
      "text/plain": [
       "166"
      ]
     },
     "execution_count": 10,
     "metadata": {},
     "output_type": "execute_result"
    }
   ],
   "source": [
    "len(nii_sid)"
   ]
  },
  {
   "cell_type": "code",
   "execution_count": 11,
   "id": "db0361ab-7139-4132-9d48-c0ea349b741b",
   "metadata": {},
   "outputs": [],
   "source": [
    "#nii_sid"
   ]
  },
  {
   "cell_type": "code",
   "execution_count": 12,
   "id": "b99b0cdd-6d1d-454e-877f-e37e69e97344",
   "metadata": {},
   "outputs": [],
   "source": [
    "ct_nii_sids=[sid for sid in nii_sid if sid in df[df[\"Modality\"]==\"CTA\"][\"SeriesInstanceUID\"].unique()]\n",
    "mri_nii_sids=[sid for sid in nii_sid if sid in df[df[\"Modality\"]!=\"CTA\"][\"SeriesInstanceUID\"].unique()]"
   ]
  },
  {
   "cell_type": "code",
   "execution_count": 13,
   "id": "f539034c-a6b8-4372-aab0-6a07a9952fea",
   "metadata": {},
   "outputs": [
    {
     "name": "stderr",
     "output_type": "stream",
     "text": [
      "/home/fateplsf/miniconda3/envs/py3.10/lib/python3.10/site-packages/monai/utils/deprecate_utils.py:321: FutureWarning: monai.transforms.spatial.array Orientation.__init__:labels: Current default value of argument `labels=(('L', 'R'), ('P', 'A'), ('I', 'S'))` was changed in version None from `labels=(('L', 'R'), ('P', 'A'), ('I', 'S'))` to `labels=None`. Default value changed to None meaning that the transform now uses the 'space' of a meta-tensor, if applicable, to determine appropriate axis labels.\n",
      "  warn_deprecated(argname, msg, warning_category)\n"
     ]
    }
   ],
   "source": [
    "\n",
    "from monai.transforms import (\n",
    "    Compose, EnsureChannelFirst, Orientation, Spacing,\n",
    "    ScaleIntensityRangePercentiles\n",
    ")\n",
    "from monai.transforms import LoadImage\n",
    "import numpy as np\n",
    "import torch\n",
    "from typing import Tuple, Optional, Dict\n",
    "\n",
    "# ---- 共同工具 ----\n",
    "def _to_DHW_rot90(t: torch.Tensor, k: int = 1):\n",
    "    arr = t.numpy() if isinstance(t, torch.Tensor) else t\n",
    "    arr = np.squeeze(arr, axis=0)        # [H,W,D]\n",
    "    arr = np.transpose(arr, (2, 0, 1))   # -> [D,H,W]\n",
    "    arr = np.rot90(arr, k=k, axes=(1, 2))\n",
    "    return arr\n",
    "\n",
    "def _clean_mask_labels(msk: np.ndarray) -> np.ndarray:\n",
    "    msk = (msk > 0).astype(np.uint8)\n",
    "    return msk.astype(np.uint8)\n",
    "\n",
    "# ---- 轉換（MRI 影像 / Mask）----\n",
    "\n",
    "\n",
    "\n",
    "# MRI 預處理\n",
    "_img_t_mri = Compose([\n",
    "    EnsureChannelFirst(),\n",
    "    Orientation(axcodes=\"RAS\"),\n",
    "    Spacing(pixdim=(0.7, 0.7, 0.7), mode=\"bilinear\"),\n",
    "    # ScaleIntensityRangePercentiles(\n",
    "    #     lower=0.5, upper=99.5, b_min=0.0, b_max=1.0, clip=True\n",
    "    # ),\n",
    "    ScaleIntensityRangePercentiles(\n",
    "        lower=1.0, upper=99.0, b_min=0.0, b_max=1.0, clip=True\n",
    "    ),\n",
    "])\n",
    "\n",
    "# CT 預處理\n",
    "_img_t_ct = Compose([\n",
    "    EnsureChannelFirst(),\n",
    "    Orientation(axcodes=\"RAS\"),\n",
    "    Spacing(pixdim=(0.7, 0.7, 0.7), mode=\"bilinear\"),\n",
    "    # ScaleIntensityRange(\n",
    "    #     a_min=-1000, a_max=2000, b_min=0.0, b_max=1.0, clip=True\n",
    "    # ),\n",
    "    ScaleIntensityRangePercentiles(\n",
    "        lower=1.0, upper=99.0, b_min=0.0, b_max=1.0, clip=True\n",
    "    ),\n",
    "])\n",
    "\n",
    "_msk_t = Compose([\n",
    "    EnsureChannelFirst(),\n",
    "    Orientation(axcodes=\"RAS\"),\n",
    "    Spacing(pixdim=(0.7, 0.7, 0.7), mode=\"nearest\"),\n",
    "])\n",
    "\n",
    "# ---- 主函式 ----\n",
    "def process_mri_case(\n",
    "    sid: str,\n",
    "    modality: str = \"mri\",   # \"mri\" 或 \"ct\"\n",
    "    img_path_tpl: str = \"/ssd3/rsna_2025_flayer/data/segmentations/{sid}.nii\",  # 影像 NIfTI 路徑樣板\n",
    "    msk_path_tpl: Optional[str] = \"/ssd3/rsna_2025_flayer/data/segmentations/{sid}_cowseg.nii\",# 標註 NIfTI 路徑樣板\n",
    "    rot_k: int = 1,\n",
    "    return_meta: bool = False,\n",
    ") -> Tuple[np.ndarray, Optional[np.ndarray], Optional[Dict]]:\n",
    "    \"\"\"\n",
    "    回傳:\n",
    "      img_arr: (D,H,W) float32, 已做強度標準化\n",
    "      msk_arr: (D,H,W) uint8, 已將 >13 壓為 1；若無 mask，回傳 None\n",
    "      info:    可選，包含 affine 等資訊\n",
    "    \"\"\"\n",
    "    loader = LoadImage(image_only=False)\n",
    "\n",
    "    # --- 影像 ---\n",
    "    #print(sid)\n",
    "    img_p = img_path_tpl.format(sid=sid)\n",
    "    img, img_meta = loader(img_p)            # img: torch.Tensor or np\n",
    "\n",
    "    \n",
    "    if modality.lower() == \"ct\":\n",
    "        img = _img_t_ct(img)\n",
    "    else:  # 預設 mri\n",
    "        img = _img_t_mri(img)\n",
    "        \n",
    "    img_arr = _to_DHW_rot90(img, k=rot_k).astype(np.float32)\n",
    "    # 保險處理 NaN/Inf\n",
    "    img_arr = np.nan_to_num(img_arr, nan=0.0, posinf=0.0, neginf=0.0)\n",
    "\n",
    "    # --- 標註（可選） ---\n",
    "    msk_arr = None\n",
    "    if msk_path_tpl is not None:\n",
    "        msk_p = msk_path_tpl.format(sid=sid)\n",
    "        try:\n",
    "            msk, msk_meta = loader(msk_p)\n",
    "            msk = _msk_t(msk)\n",
    "            msk_arr = _to_DHW_rot90(msk, k=rot_k) \n",
    "            msk_arr_b = _clean_mask_labels(msk_arr)  # >13 → 1，且轉 uint8\n",
    "        except FileNotFoundError:\n",
    "            msk_meta = None\n",
    "            msk_arr = None\n",
    "            msk_arr_b = None\n",
    "\n",
    "    if not return_meta:\n",
    "        return img_arr, msk_arr_b, msk_arr, None\n",
    "\n",
    "    info = {\n",
    "        \"sid\": sid,\n",
    "        \"img_path\": img_p,\n",
    "        \"msk_path\": (msk_path_tpl.format(sid=sid) if msk_path_tpl else None),\n",
    "        \"img_affine\": img_meta.get(\"affine\", None) if isinstance(img_meta, dict) else None,\n",
    "        \"img_original_affine\": img_meta.get(\"original_affine\", None) if isinstance(img_meta, dict) else None,\n",
    "        \"msk_affine\": (msk_meta.get(\"affine\", None) if (msk_arr is not None and isinstance(msk_meta, dict)) else None),\n",
    "        \"msk_original_affine\": (msk_meta.get(\"original_affine\", None) if (msk_arr is not None and isinstance(msk_meta, dict)) else None),\n",
    "        \"rot_k\": rot_k,\n",
    "        \"spacing_mm\": (0.7, 0.7, 0.7),\n",
    "        \"orientation\": \"RAS\",\n",
    "    }\n",
    "    return img_arr, msk_arr_b,msk_arr, info\n",
    "\n"
   ]
  },
  {
   "cell_type": "code",
   "execution_count": null,
   "id": "35648322-f432-43fc-8992-78a83c44f6b5",
   "metadata": {},
   "outputs": [],
   "source": []
  },
  {
   "cell_type": "code",
   "execution_count": null,
   "id": "23b261be-d5bc-49b6-9d72-145b20210b6b",
   "metadata": {},
   "outputs": [],
   "source": [
    "\n",
    "os.makedirs(f\"{input_path}/{out_folder}\",exist_ok=True)\n",
    "\n",
    "os.makedirs(f\"{input_path}/{out_folder}/img\",exist_ok=True)\n",
    "os.makedirs(f\"{input_path}/{out_folder}/mask_b\",exist_ok=True)\n",
    "#os.makedirs(f\"{input_path}/{out_folder}/mask\",exist_ok=True)\n"
   ]
  },
  {
   "cell_type": "code",
   "execution_count": 15,
   "id": "3edbe9de-9289-4d91-b8e7-429a2d7b71f9",
   "metadata": {},
   "outputs": [],
   "source": [
    "from tqdm.auto import tqdm"
   ]
  },
  {
   "cell_type": "code",
   "execution_count": null,
   "id": "a00fc1c2-54ee-4908-a3a6-d1638eb62c5f",
   "metadata": {},
   "outputs": [
    {
     "data": {
      "application/vnd.jupyter.widget-view+json": {
       "model_id": "7ee065989dad4a3cb8f210a9806340b3",
       "version_major": 2,
       "version_minor": 0
      },
      "text/plain": [
       "  0%|          | 0/73 [00:00<?, ?it/s]"
      ]
     },
     "metadata": {},
     "output_type": "display_data"
    },
    {
     "data": {
      "application/vnd.jupyter.widget-view+json": {
       "model_id": "ed7368ed27e841aa86a19d7555b3d3d8",
       "version_major": 2,
       "version_minor": 0
      },
      "text/plain": [
       "  0%|          | 0/93 [00:00<?, ?it/s]"
      ]
     },
     "metadata": {},
     "output_type": "display_data"
    }
   ],
   "source": [
    "for sid in tqdm(ct_nii_sids):\n",
    "    img_arr,msk_arr_b,msk_arr,_=process_mri_case(sid,\"ct\")\n",
    "    np.save(f\"{input_path}/{out_folder}/img/{sid}.npy\",img_arr)\n",
    "    np.save(f\"{input_path}/{out_folder}/mask_b/{sid}.npy\",msk_arr_b)\n",
    "    #np.save(f\"{input_path}/{out_folder}/mask/{sid}.npy\",msk_arr)\n",
    "\n",
    "for sid in tqdm(mri_nii_sids):\n",
    "    img_arr,msk_arr_b,msk_arr,_=process_mri_case(sid,\"mri\")\n",
    "    np.save(f\"{input_path}/{out_folder}/img/{sid}.npy\",img_arr)\n",
    "    np.save(f\"{input_path}/{out_folder}/mask_b/{sid}.npy\",msk_arr_b)\n",
    "    #np.save(f\"{input_path}/{out_folder}/mask/{sid}.npy\",msk_arr)\n"
   ]
  },
  {
   "cell_type": "code",
   "execution_count": null,
   "id": "83ae96ff-cb50-4074-896d-9ff87d875a17",
   "metadata": {},
   "outputs": [],
   "source": []
  },
  {
   "cell_type": "code",
   "execution_count": 34,
   "id": "88f7087c-24c7-4a03-adab-07bca6ed200d",
   "metadata": {},
   "outputs": [],
   "source": [
    "#spacing_07 0.7mm ,mri:ScaleIntensityRangePercentiles(lower=0.5, upper=99.5),  ct:ScaleIntensityRange(a_min=-1000, a_max=2000)\n",
    "#spacing_07_p1_p99 ScaleIntensityRangePercentiles(lower=1.0, upper=99.0) "
   ]
  },
  {
   "cell_type": "code",
   "execution_count": null,
   "id": "2affd970",
   "metadata": {},
   "outputs": [],
   "source": []
  }
 ],
 "metadata": {
  "kernelspec": {
   "display_name": "py3.10",
   "language": "python",
   "name": "python3"
  },
  "language_info": {
   "codemirror_mode": {
    "name": "ipython",
    "version": 3
   },
   "file_extension": ".py",
   "mimetype": "text/x-python",
   "name": "python",
   "nbconvert_exporter": "python",
   "pygments_lexer": "ipython3",
   "version": "3.10.18"
  }
 },
 "nbformat": 4,
 "nbformat_minor": 5
}
